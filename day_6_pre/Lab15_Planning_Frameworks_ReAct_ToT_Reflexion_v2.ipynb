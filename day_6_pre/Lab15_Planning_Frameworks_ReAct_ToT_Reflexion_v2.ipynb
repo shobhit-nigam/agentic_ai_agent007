{
 "cells": [
  {
   "cell_type": "markdown",
   "id": "45585456",
   "metadata": {},
   "source": [
    "# Lab 15 — Planning Frameworks: ReAct, Tree-of-Thoughts, Reflexion (v3)"
   ]
  },
  {
   "cell_type": "markdown",
   "id": "4edb32f6",
   "metadata": {},
   "source": [
    "\n",
    "**What's new in v3?**\n",
    "- **Input normalization**: the executor auto-fills `city` and `weather` for `suggest_city_activities` from recent tool results so traces look clean and deterministic.\n",
    "- **Critic-on-override**: if the validator overrides a premature `done:true` (policy miss) in **Reflexion** mode, the graph routes through **CRITIC** to write a reflection before continuing.\n"
   ]
  },
  {
   "cell_type": "code",
   "execution_count": null,
   "id": "e5c8aa6d",
   "metadata": {},
   "outputs": [],
   "source": [
    "\n",
    "from Lab15_Planning_Frameworks_ReAct_ToT_Reflexion_v3 import run_demo_react, run_demo_tot, run_demo_reflexion\n",
    "run_demo_react()\n",
    "run_demo_tot()\n",
    "run_demo_reflexion()\n"
   ]
  }
 ],
 "metadata": {},
 "nbformat": 4,
 "nbformat_minor": 5
}
