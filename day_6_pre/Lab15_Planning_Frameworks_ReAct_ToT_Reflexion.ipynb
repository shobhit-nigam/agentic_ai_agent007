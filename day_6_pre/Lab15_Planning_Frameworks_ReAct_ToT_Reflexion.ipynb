{
 "cells": [
  {
   "cell_type": "markdown",
   "id": "6d8799f2",
   "metadata": {},
   "source": [
    "# Lab 15 — Planning Frameworks: ReAct, Tree-of-Thoughts, Reflexion (v2)"
   ]
  },
  {
   "cell_type": "markdown",
   "id": "6967288d",
   "metadata": {},
   "source": [
    "\n",
    "**Why this lab?** Compare how the planner reasons and plug ReAct, ToT, Reflexion into the same Planner→Executor→Validator skeleton.\n",
    "\n",
    "**Setup**\n",
    "```bash\n",
    "pip install -U langgraph langchain langchain-openai typing_extensions tiktoken\n",
    "export OPENAI_API_KEY=\"YOUR_KEY\"\n",
    "```\n"
   ]
  },
  {
   "cell_type": "code",
   "execution_count": null,
   "id": "f72ebb22",
   "metadata": {},
   "outputs": [],
   "source": [
    "\n",
    "from Lab15_Planning_Frameworks_ReAct_ToT_Reflexion_v2 import run_demo_react, run_demo_tot, run_demo_reflexion\n",
    "run_demo_react()\n",
    "run_demo_tot()\n",
    "run_demo_reflexion()\n"
   ]
  }
 ],
 "metadata": {},
 "nbformat": 4,
 "nbformat_minor": 5
}
