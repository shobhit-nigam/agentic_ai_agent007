{
 "cells": [
  {
   "cell_type": "markdown",
   "id": "b5939094",
   "metadata": {},
   "source": [
    "# Lab 16 — Meta-Reasoning & Reflexion Deep Dive (LangGraph)"
   ]
  },
  {
   "cell_type": "markdown",
   "id": "0b0977e9",
   "metadata": {},
   "source": [
    "\n",
    "**Why this lab?** We go beyond \"fix once\" and introduce **structured violations**, a **Critic** that emits actionable reflections, and a **Lessons** list injected into planning so the agent improves across attempts—while keeping Validator as the policy source of truth.\n",
    "\n",
    "**Setup**\n",
    "```bash\n",
    "pip install -U langgraph langchain langchain-openai typing_extensions tiktoken\n",
    "export OPENAI_API_KEY=\"YOUR_KEY\"\n",
    "```\n"
   ]
  },
  {
   "cell_type": "code",
   "execution_count": null,
   "id": "ca0f58b4",
   "metadata": {},
   "outputs": [],
   "source": [
    "\n",
    "from Lab16_MetaReasoning_Reflexion_DeepDive_v1 import run_demo_clean_react, run_demo_reflexion_violation_then_learn, run_demo_math_policy\n",
    "run_demo_clean_react()\n",
    "run_demo_reflexion_violation_then_learn()\n",
    "run_demo_math_policy()\n"
   ]
  }
 ],
 "metadata": {},
 "nbformat": 4,
 "nbformat_minor": 5
}
