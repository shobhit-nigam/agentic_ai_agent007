{
 "cells": [
  {
   "cell_type": "code",
   "execution_count": 3,
   "id": "16c01bbc-b6d5-476f-a4bf-b6acd441b955",
   "metadata": {},
   "outputs": [],
   "source": [
    "import re\n",
    "PII_PATTERNS = [\n",
    "    (re.compile(r\"\\b\\d{3}-\\d{2}-\\d{4}\\b\"), \"[SSN REDACTED]\"),\n",
    "    (re.compile(r\"\\b(?:\\+?\\d{1,3}[-.\\s]?)?(?:\\(?\\d{3}\\)?[-.\\s]?)\\d{3}[-.\\s]?\\d{4}\\b\"), \"[PHONE REDACTED]\"),\n",
    "    (re.compile(r\"\\b[\\w\\.-]+@[\\w\\.-]+\\.\\w+\\b\"), \"[EMAIL REDACTED]\"),\n",
    "    (re.compile(r\"\\b(?:\\d[ -]*?){13,16}\\b\"), \"[CARD REDACTED]\"),\n",
    "]\n",
    "\n",
    "def redact_pii(text: str) -> str:\n",
    "    out = text\n",
    "    for pat, repl in PII_PATTERNS:\n",
    "        out = pat.sub(repl, out)\n",
    "    return out"
   ]
  },
  {
   "cell_type": "code",
   "execution_count": 5,
   "id": "3df6474b-b8e5-4eac-ab32-1b876f2fca58",
   "metadata": {},
   "outputs": [
    {
     "data": {
      "text/plain": [
       "'call me at [PHONE REDACTED]'"
      ]
     },
     "execution_count": 5,
     "metadata": {},
     "output_type": "execute_result"
    }
   ],
   "source": [
    "msg = \"call me at 6783216783\"\n",
    "redact_pii(msg)"
   ]
  },
  {
   "cell_type": "code",
   "execution_count": null,
   "id": "b64a6220-8144-4969-8f31-321cee9053a3",
   "metadata": {},
   "outputs": [],
   "source": []
  }
 ],
 "metadata": {
  "kernelspec": {
   "display_name": "Python 3 (ipykernel)",
   "language": "python",
   "name": "python3"
  },
  "language_info": {
   "codemirror_mode": {
    "name": "ipython",
    "version": 3
   },
   "file_extension": ".py",
   "mimetype": "text/x-python",
   "name": "python",
   "nbconvert_exporter": "python",
   "pygments_lexer": "ipython3",
   "version": "3.12.7"
  }
 },
 "nbformat": 4,
 "nbformat_minor": 5
}
