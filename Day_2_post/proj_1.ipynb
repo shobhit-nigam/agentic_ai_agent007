{
 "cells": [
  {
   "cell_type": "code",
   "execution_count": 14,
   "id": "437bf063-21ed-4966-ae82-21d212f18388",
   "metadata": {},
   "outputs": [],
   "source": [
    "from dataclasses import dataclass\n",
    "from typing import Callable, Dict\n",
    "\n",
    "@dataclass \n",
    "class Tool:\n",
    "    name: str\n",
    "    description: str\n",
    "    call: Callable[..., str]  # kwargs in, string out \n",
    "\n",
    "REGISTRY : Dict[str, Tool] = {}\n",
    "\n",
    "# local mock tools (offline-friendly)\n",
    "def register(tool: Tool) -> None:\n",
    "    REGISTRY[tool.name] = tool\n",
    "\n",
    "def weather_tool(city: str) -> str:\n",
    "    return f\"weather in {city}: 22 degrees, clear\"\n",
    "\n",
    "def wiki_tool(topic: str) -> str:\n",
    "    return f\"(mock) Quick facts about {topic}: ...\"\n",
    "\n",
    "#register the weather tool\n",
    "register(\n",
    "    Tool(\n",
    "        name = \"weather\", \n",
    "        description=\"Get current weather by city\", \n",
    "        call = lambda city: weather_tool(city)\n",
    "    )\n",
    ")\n",
    "#register the wiki tool\n",
    "register(\n",
    "    Tool(\n",
    "        name = \"wikipedia\", \n",
    "        description=\"Short summary of a topic\", \n",
    "        call = lambda topic: wiki_tool(topic)\n",
    "    )\n",
    ")"
   ]
  },
  {
   "cell_type": "code",
   "execution_count": 6,
   "id": "b785bb24-f1c3-4552-abb7-1b16f35cf543",
   "metadata": {},
   "outputs": [
    {
     "name": "stdout",
     "output_type": "stream",
     "text": [
      "{'weather': Tool(name='weather', description='Get current weather by city', call=<function <lambda> at 0x152752fc0>), 'wikipedia': Tool(name='wikipedia', description='Short summary of a topic', call=<function <lambda> at 0x1527528e0>)}\n"
     ]
    }
   ],
   "source": [
    "print(REGISTRY)"
   ]
  },
  {
   "cell_type": "markdown",
   "id": "f87fc63c-1da4-4751-a91f-5ce4eb3fda1f",
   "metadata": {},
   "source": [
    "# router \n",
    "def choose_tool()\n",
    "\n",
    "\n",
    "def find_city()\n",
    "\n",
    "def find_topic() \n",
    "\n",
    "# orchestration \n",
    "def run() :\n",
    "    if tool == \"weather\":\n",
    "        city = find_city()\n",
    "        return\n",
    "\n",
    "    if tool == \"wikipedia\"\n",
    "        tool = find_topic()\n",
    "        return\n",
    "    \n",
    "    return "
   ]
  },
  {
   "cell_type": "code",
   "execution_count": 10,
   "id": "6dd46545-eab4-48f5-afaa-23eeff50b7b1",
   "metadata": {},
   "outputs": [],
   "source": [
    "from typing import Tuple, Optional\n",
    "#from agent.tools import REGISTRY\n",
    "\n",
    "# --- 1) Router: pick a tool name from a query (tiny, explicit) ---\n",
    "def choose_tool(query: str) -> Tuple[str, str]:\n",
    "    q = query.lower()\n",
    "    if \"weather\" in q or \"forecast\" in q:\n",
    "        return \"weather\", \"matched keyword: weather/forecast\"\n",
    "    if any(kw in q for kw in [\"wiki\", \"wikipedia\", \"who is\", \"what is\"]):\n",
    "        return \"wikipedia\", \"matched keyword: wiki/who/what\"\n",
    "    return \"llm\", \"no keyword match\"\n",
    "\n",
    "# --- 2) Naive argument extraction (kept simple for Lab 1) ---\n",
    "def _find_city(query: str) -> Optional[str]:\n",
    "    q = query.lower()\n",
    "    cities = [\n",
    "        \"san francisco\", \"new york\",\n",
    "        \"chicago\", \"paris\", \"london\", \"mumbai\", \"tokyo\", \"delhi\", \"bangalore\"\n",
    "    ]\n",
    "    for c in cities:\n",
    "        if c in q:\n",
    "            return c.title()\n",
    "    return None\n",
    "\n",
    "def _find_topic(query: str) -> str:\n",
    "    q = query.strip()\n",
    "    lower = q.lower()\n",
    "    if \"about\" in lower:\n",
    "        return q[lower.index(\"about\") + len(\"about\"):].strip() or \"Agentic AI\"\n",
    "    if \"on \" in lower:\n",
    "        return q[lower.index(\"on \") + len(\"on \"):].strip() or \"Agentic AI\"\n",
    "    return q\n",
    "\n",
    "# --- 3) Orchestrator: route -> extract args -> call tool (or fallback) ---\n",
    "def run_once(query: str) -> str:\n",
    "    tool, reason = choose_tool(query)\n",
    "\n",
    "    if tool == \"weather\":\n",
    "        city = _find_city(query)\n",
    "        if not city:\n",
    "            return \"I can check the weather, but I couldn't spot the city. Try: 'weather in Paris'.\"\n",
    "        out = REGISTRY[\"weather\"].call(city=city)  \n",
    "        return f\"[weather] {out}  (reason: {reason})\"\n",
    "\n",
    "    if tool == \"wikipedia\":\n",
    "        topic = _find_topic(query)\n",
    "        out = REGISTRY[\"wikipedia\"].call(topic=topic)  \n",
    "        return f\"[wikipedia] {out}  (reason: {reason})\"\n",
    "\n",
    "    return \"(llm) I'd answer conversationally here. (reason: no matching tool)\"\n",
    "# receive query --> calls router --> extract --> calls tools --> return answer "
   ]
  },
  {
   "cell_type": "code",
   "execution_count": 16,
   "id": "01729ab4-9d7b-494f-94f4-e409d832171b",
   "metadata": {},
   "outputs": [
    {
     "data": {
      "text/plain": [
       "'[weather] weather in Paris: 22 degrees, clear  (reason: matched keyword: weather/forecast)'"
      ]
     },
     "execution_count": 16,
     "metadata": {},
     "output_type": "execute_result"
    }
   ],
   "source": [
    "run_once(\"what is the weather in paris today?\")"
   ]
  },
  {
   "cell_type": "code",
   "execution_count": 18,
   "id": "170fe863-ae14-4e84-b557-03196aeb36ae",
   "metadata": {},
   "outputs": [
    {
     "data": {
      "text/plain": [
       "\"(llm) I'd answer conversationally here. (reason: no matching tool)\""
      ]
     },
     "execution_count": 18,
     "metadata": {},
     "output_type": "execute_result"
    }
   ],
   "source": [
    "run_once(\"tell me about LLMs\")"
   ]
  },
  {
   "cell_type": "code",
   "execution_count": 22,
   "id": "eac54397-07e4-4946-bfd4-78f6e49fd5ed",
   "metadata": {},
   "outputs": [
    {
     "data": {
      "text/plain": [
       "'[wikipedia] (mock) Quick facts about LLMs from wiki: ...  (reason: matched keyword: wiki/who/what)'"
      ]
     },
     "execution_count": 22,
     "metadata": {},
     "output_type": "execute_result"
    }
   ],
   "source": [
    "run_once(\"tell me about LLMs from wiki\")"
   ]
  },
  {
   "cell_type": "code",
   "execution_count": null,
   "id": "c59243f5-1a09-4868-97e9-a03b35aa32d5",
   "metadata": {},
   "outputs": [],
   "source": []
  }
 ],
 "metadata": {
  "kernelspec": {
   "display_name": "Python 3 (ipykernel)",
   "language": "python",
   "name": "python3"
  },
  "language_info": {
   "codemirror_mode": {
    "name": "ipython",
    "version": 3
   },
   "file_extension": ".py",
   "mimetype": "text/x-python",
   "name": "python",
   "nbconvert_exporter": "python",
   "pygments_lexer": "ipython3",
   "version": "3.12.7"
  }
 },
 "nbformat": 4,
 "nbformat_minor": 5
}
