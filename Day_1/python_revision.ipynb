{
 "cells": [
  {
   "cell_type": "code",
   "execution_count": 2,
   "id": "2425b9e7-a54d-4659-8670-c132adb2865f",
   "metadata": {},
   "outputs": [],
   "source": [
    "def funcA():\n",
    "    print(\"hello world\\n\") \n",
    "    print(\"inside a function\\n\")"
   ]
  },
  {
   "cell_type": "code",
   "execution_count": 4,
   "id": "ba476743-7da7-40b3-9618-2b374cf6db68",
   "metadata": {},
   "outputs": [
    {
     "name": "stdout",
     "output_type": "stream",
     "text": [
      "hello world\n",
      "\n",
      "inside a function\n",
      "\n"
     ]
    }
   ],
   "source": [
    "funcA()"
   ]
  },
  {
   "cell_type": "code",
   "execution_count": 6,
   "id": "fedc08c6-879d-464c-b2b4-952515042d03",
   "metadata": {},
   "outputs": [
    {
     "name": "stdout",
     "output_type": "stream",
     "text": [
      "2 + 2 is 4\n",
      "var_x is 33\n"
     ]
    }
   ],
   "source": [
    "var_x = 33\n",
    "\n",
    "print(f\"2 + 2 is {2+2}\")\n",
    "print(f\"var_x is {var_x}\")"
   ]
  },
  {
   "cell_type": "code",
   "execution_count": null,
   "id": "103271f4-13da-4e1a-a025-d893b38d6216",
   "metadata": {},
   "outputs": [],
   "source": [
    "!pip install package_name "
   ]
  }
 ],
 "metadata": {
  "kernelspec": {
   "display_name": "Python (agentic-ai-demo)",
   "language": "python",
   "name": "agentic-ai-demo"
  },
  "language_info": {
   "codemirror_mode": {
    "name": "ipython",
    "version": 3
   },
   "file_extension": ".py",
   "mimetype": "text/x-python",
   "name": "python",
   "nbconvert_exporter": "python",
   "pygments_lexer": "ipython3",
   "version": "3.12.7"
  }
 },
 "nbformat": 4,
 "nbformat_minor": 5
}
