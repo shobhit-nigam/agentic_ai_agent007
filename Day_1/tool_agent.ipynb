{
 "cells": [
  {
   "cell_type": "code",
   "execution_count": null,
   "id": "457b0358-d786-4a80-82b3-74bd4fa65651",
   "metadata": {},
   "outputs": [],
   "source": [
    "import requests \n",
    "from openai import OpenAI\n",
    "\n",
    "#client = OpenAI()\n",
    "\n",
    "\n",
    "def get_weather(city: str) --> str:\n",
    "    url = f\"http://wttr.in/{city}?format=3\"\n",
    "    r = requests.get(url, timeout=8)\n",
    "    r.raise_for_status()\n",
    "    return r.text \n",
    "\n",
    "\n",
    "def tool_using_agent(user_input: str) -> str:\n",
    "    text = user_input.lower()\n",
    "    if \"weather\" in text:\n",
    "        # naive city extraction\n",
    "        city = \"Chicago\"\n",
    "        for name in [\"Chicago\", \"New York\", \"London\"]:\n",
    "            if name.lower() in text:\n",
    "                city = name\n",
    "                break\n",
    "        try:\n",
    "            weather = get_weather(city)\n",
    "            return f\"I checked the weather tool: {weather}\"\n",
    "        except Exception as e:\n",
    "            return f\"Sorry weather tool failed: {e}\"\n",
    "    else:\n",
    "        print(\"Agent: No tool needed; using LLM.\")\n",
    "        return mock_chat([{\"role\": \"user\", \"content\": user_input}])\n",
    "\n",
    "print(tool_using_agent(\"What's the weather in Chicago today?\"))\n",
    "print(tool_using_agent(\"Suggest an evening dinner plan.\"))\n"
   ]
  }
 ],
 "metadata": {
  "kernelspec": {
   "display_name": "Python 3 (ipykernel)",
   "language": "python",
   "name": "python3"
  },
  "language_info": {
   "codemirror_mode": {
    "name": "ipython",
    "version": 3
   },
   "file_extension": ".py",
   "mimetype": "text/x-python",
   "name": "python",
   "nbconvert_exporter": "python",
   "pygments_lexer": "ipython3",
   "version": "3.12.7"
  }
 },
 "nbformat": 4,
 "nbformat_minor": 5
}
