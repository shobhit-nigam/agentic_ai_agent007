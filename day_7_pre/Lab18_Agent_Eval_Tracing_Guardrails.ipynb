{
 "cells": [
  {
   "cell_type": "markdown",
   "id": "e3bb61fd",
   "metadata": {},
   "source": [
    "# Lab 18 — Agent Evaluation, Tracing & Safety Guardrails"
   ]
  },
  {
   "cell_type": "markdown",
   "id": "ca5e1b98",
   "metadata": {},
   "source": [
    "Run the evaluation suite; logs and reports will be saved under `./logs`."
   ]
  },
  {
   "cell_type": "code",
   "execution_count": null,
   "id": "1753f379",
   "metadata": {},
   "outputs": [],
   "source": [
    "!python -V"
   ]
  },
  {
   "cell_type": "code",
   "execution_count": null,
   "id": "0b33e3c1",
   "metadata": {},
   "outputs": [],
   "source": [
    "import os\n",
    "os.environ['OPENAI_API_KEY'] = os.getenv('OPENAI_API_KEY', '')\n",
    "print('OPENAI key present:', bool(os.environ['OPENAI_API_KEY']))"
   ]
  },
  {
   "cell_type": "code",
   "execution_count": null,
   "id": "8290e460",
   "metadata": {},
   "outputs": [],
   "source": [
    "!pip install -U langgraph langchain langchain-openai typing_extensions tiktoken pydantic"
   ]
  },
  {
   "cell_type": "code",
   "execution_count": null,
   "id": "a0c2e131",
   "metadata": {},
   "outputs": [],
   "source": [
    "from Lab18_Agent_Eval_Tracing_Guardrails import main\n",
    "main()"
   ]
  }
 ],
 "metadata": {},
 "nbformat": 4,
 "nbformat_minor": 5
}
