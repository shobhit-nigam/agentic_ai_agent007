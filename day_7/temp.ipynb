{
 "cells": [
  {
   "cell_type": "code",
   "execution_count": null,
   "id": "0b09a139-3e60-4c87-adde-c588851eec7e",
   "metadata": {},
   "outputs": [],
   "source": [
    "import random \n",
    "from dataclasses import dataclass \n",
    "\n",
    "@dataclass\n",
    "class Device:\n",
    "    device_id : str\n",
    "    model : str \n",
    "    firmware : str = \"1.0.0\"       #current version on device \n",
    "    crashed: bool = False \n",
    "\n",
    "@dataclass\n",
    "class Fleet:\n",
    "    devices : list \n",
    "    baseline_crash_p: float \n",
    "    newfw_crash_p : \n",
    "    recovery_p : float\n",
    "\n",
    "    def tick(self):\n",
    "        \"\"\"Advance one time step (epoch) and compute crash stats\"\"\"\n",
    "\n",
    "# apply firmware to list of devices (a \"cohort\") \n",
    "    def apply_firmware(self, version):\n",
    "        "
   ]
  },
  {
   "cell_type": "code",
   "execution_count": null,
   "id": "a2d2b3aa-2ac0-4e2d-b66b-a0df1fd3ac1e",
   "metadata": {},
   "outputs": [],
   "source": [
    "# app/rollout.py\n",
    "\n",
    "def make_cohorts(device_ids, waves = (0.01, 0.10, 0.50, 1.00)):\n",
    "    ids = list(device_ids) \n",
    "    random.shuffle(ids) \n",
    "\n",
    "#wave1_1%\n",
    "def wave_name(i) :\n",
    "    return "
   ]
  },
  {
   "cell_type": "code",
   "execution_count": null,
   "id": "c8809b3d-0e87-42c8-8395-ccec112328b5",
   "metadata": {},
   "outputs": [],
   "source": [
    "#app/anomaly.py \n",
    "# safety gate (allow or rollback) \n",
    "\n",
    "def gate_pass(baseline_cr, current_cr, threshold=0.0020)"
   ]
  },
  {
   "cell_type": "code",
   "execution_count": null,
   "id": "52a246ed-c4ef-457f-8161-9b0ca40e4ca7",
   "metadata": {},
   "outputs": [],
   "source": [
    "#app/report.py \n",
    "\n",
    "# raw KPIs into csv, visual report, summary.txt\n",
    "plt.plot()"
   ]
  },
  {
   "cell_type": "code",
   "execution_count": null,
   "id": "bc130442-14c9-4e0d-a718-0645688599fe",
   "metadata": {},
   "outputs": [],
   "source": [
    "# app/main_v1_baseline.py\n",
    "\n",
    "# measure the baseline crash rate "
   ]
  },
  {
   "cell_type": "code",
   "execution_count": null,
   "id": "bd9f1df7-cc44-44f8-9934-430d61b822dd",
   "metadata": {},
   "outputs": [],
   "source": [
    "#app/main_v2_wave1.py \n",
    "\n",
    "# apply 1% wave & log KPIs"
   ]
  },
  {
   "cell_type": "code",
   "execution_count": null,
   "id": "86f6be98-14b5-47e9-8321-add567484459",
   "metadata": {},
   "outputs": [],
   "source": [
    "#app/main_v3_gate.py\n",
    "\n",
    "current = rows[-1][\"crash_rate\"]\n",
    "print(\"PASS\" or \"FAIL\")"
   ]
  },
  {
   "cell_type": "code",
   "execution_count": null,
   "id": "443ef141-b870-4fc0-ab69-3cf7a6221ccf",
   "metadata": {},
   "outputs": [],
   "source": [
    "#app/main_v4_full.py\n",
    "\n",
    "# full multiwave rollout + auto-rollback + report "
   ]
  },
  {
   "cell_type": "code",
   "execution_count": null,
   "id": "e0104de0-123a-4f48-95ac-3d233b6a061f",
   "metadata": {},
   "outputs": [],
   "source": [
    "# app/agents/base.py \n",
    "# app/agents/tracer.py \n"
   ]
  },
  {
   "cell_type": "code",
   "execution_count": null,
   "id": "4839010c-aa72-4551-b065-6ad06afadbf4",
   "metadata": {},
   "outputs": [],
   "source": [
    "# app/agents/monitor.py \n"
   ]
  },
  {
   "cell_type": "code",
   "execution_count": null,
   "id": "0c73ac36-8948-489e-8d7b-1cd0c2ced37f",
   "metadata": {},
   "outputs": [],
   "source": [
    "# app/agents/planner.py \n"
   ]
  },
  {
   "cell_type": "code",
   "execution_count": null,
   "id": "2e7c2f7d-9b5d-4ec3-95b6-b7020ed370ce",
   "metadata": {},
   "outputs": [],
   "source": [
    "# app/agents/gaurd.py \n"
   ]
  },
  {
   "cell_type": "code",
   "execution_count": null,
   "id": "b4aae16a-2806-45ef-a034-07c18ef0c3fd",
   "metadata": {},
   "outputs": [],
   "source": [
    "# app/agents/actuator.py \n"
   ]
  },
  {
   "cell_type": "code",
   "execution_count": null,
   "id": "175b7b87-16f9-4dcd-8f7d-5e11b5eb4452",
   "metadata": {},
   "outputs": [],
   "source": [
    "# app/agents/reporter.py \n"
   ]
  },
  {
   "cell_type": "code",
   "execution_count": null,
   "id": "636aadc6-c968-4b6a-8197-2876b8a48c2d",
   "metadata": {},
   "outputs": [],
   "source": [
    "# app/agents/orchestrator.py (Glue + Trace)\n",
    "# from rollout import wave_name, make_cohorts\n"
   ]
  }
 ],
 "metadata": {
  "kernelspec": {
   "display_name": "Python 3 (ipykernel)",
   "language": "python",
   "name": "python3"
  },
  "language_info": {
   "codemirror_mode": {
    "name": "ipython",
    "version": 3
   },
   "file_extension": ".py",
   "mimetype": "text/x-python",
   "name": "python",
   "nbconvert_exporter": "python",
   "pygments_lexer": "ipython3",
   "version": "3.12.7"
  }
 },
 "nbformat": 4,
 "nbformat_minor": 5
}
