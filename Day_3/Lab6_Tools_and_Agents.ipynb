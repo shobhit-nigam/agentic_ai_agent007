{
 "cells": [
  {
   "cell_type": "markdown",
   "id": "aa3ce0ad",
   "metadata": {},
   "source": [
    "# 🧪 Lab 6: Tools & Tool-Calling Agents with LangChain\n",
    "\n",
    "**Builds on Lab 5**: You learned LLMs, `PromptTemplate`, and `LLMChain`.  \n",
    "**Now**: Wrap external functions as **Tools** and let an **Agent** decide when to use them.\n",
    "\n",
    "## 🎯 Learning Outcomes\n",
    "- Define LangChain **Tools** with the `@tool` decorator.\n",
    "- Understand two agent styles: **Tool-Calling** (OpenAI functions) and **ReAct**.\n",
    "- Run end-to-end demos that combine tools + LLM reasoning.\n",
    "- Connect this to the Agentic AI lifecycle from Labs 1–4.\n"
   ]
  },
  {
   "cell_type": "markdown",
   "id": "3aff8764",
   "metadata": {},
   "source": [
    "## 🛠 Setup\n",
    "\n",
    "Install dependencies and set your API key:\n",
    "\n",
    "```bash\n",
    "pip install langchain openai\n",
    "# mac/linux:\n",
    "export OPENAI_API_KEY=\"your_key\"\n",
    "# windows powershell:\n",
    "setx OPENAI_API_KEY \"your_key\"\n",
    "```\n"
   ]
  },
  {
   "cell_type": "code",
   "execution_count": null,
   "id": "2f0ece0f",
   "metadata": {},
   "outputs": [],
   "source": [
    "from typing import Dict\n",
    "from langchain_openai import ChatOpenAI\n",
    "from langchain.tools import tool\n",
    "from langchain.agents import initialize_agent, AgentType\n"
   ]
  },
  {
   "cell_type": "markdown",
   "id": "eb683db5",
   "metadata": {},
   "source": [
    "## 1) Define Tools\n",
    "\n",
    "We keep tools **offline-friendly** for predictable training:\n",
    "- `get_weather(city)` → tiny in-memory weather DB\n",
    "- `calculator(expression)` → safe arithmetic\n",
    "- `mini_wiki(topic)` → tiny offline encyclopedia\n"
   ]
  },
  {
   "cell_type": "code",
   "execution_count": null,
   "id": "3c5e570b",
   "metadata": {},
   "outputs": [],
   "source": [
    "@tool(\"get_weather\", return_direct=False)\n",
    "def get_weather(city: str) -> str:\n",
    "    \"\"\"Return simple weather for a given city from a tiny offline database.\"\"\"\n",
    "    weather_db: Dict[str, str] = {\n",
    "        \"paris\": \"sunny, 24°C\",\n",
    "        \"chicago\": \"cloudy, 18°C\",\n",
    "        \"mumbai\": \"rainy, 30°C\",\n",
    "        \"london\": \"overcast, 17°C\",\n",
    "        \"tokyo\": \"clear, 26°C\",\n",
    "    }\n",
    "    c = city.strip().lower()\n",
    "    if c in weather_db:\n",
    "        return f\"The weather in {city} is {weather_db[c]}.\"\n",
    "    return f\"No weather found for '{city}'. Assume mild (22°C) and clear for demo.\"\n"
   ]
  },
  {
   "cell_type": "code",
   "execution_count": null,
   "id": "49b1adb8",
   "metadata": {},
   "outputs": [],
   "source": [
    "@tool(\"calculator\", return_direct=False)\n",
    "def calculator(expression: str) -> str:\n",
    "    \"\"\"Safely evaluate a simple math expression (digits and + - * / ( ) . %).\"\"\"\n",
    "    import math, re\n",
    "    if not re.fullmatch(r\"[0-9+\\-*/(). %\\s]+\", expression):\n",
    "        return \"Calculator error: invalid characters.\"\n",
    "    try:\n",
    "        result = eval(expression, {\"__builtins__\": {}}, {\"math\": math})\n",
    "        return str(result)\n",
    "    except Exception as e:\n",
    "        return f\"Calculator error: {e}\"\n"
   ]
  },
  {
   "cell_type": "code",
   "execution_count": null,
   "id": "41aa794c",
   "metadata": {},
   "outputs": [],
   "source": [
    "@tool(\"mini_wiki\", return_direct=False)\n",
    "def mini_wiki(topic: str) -> str:\n",
    "    \"\"\"Return a short summary from a tiny offline encyclopedia.\"\"\"\n",
    "    kb: Dict[str, str] = {\n",
    "        \"alan turing\": \"Alan Turing (1912–1954) was a mathematician and pioneer of computer science who formalized computation and contributed to codebreaking in WWII.\",\n",
    "        \"agentic ai\": \"Agentic AI refers to systems that can plan, choose tools/actions, and adapt using feedback, rather than only producing text responses.\",\n",
    "        \"langchain\": \"LangChain is a framework that provides building blocks for LLM apps: prompts, chains, tools, memory, and agents.\",\n",
    "    }\n",
    "    return kb.get(topic.strip().lower(), \"No entry found in mini_wiki. Try 'Alan Turing', 'Agentic AI', or 'LangChain'.\")\n"
   ]
  },
  {
   "cell_type": "markdown",
   "id": "63c72342",
   "metadata": {},
   "source": [
    "## 2) Create an LLM\n"
   ]
  },
  {
   "cell_type": "code",
   "execution_count": null,
   "id": "77edc0a4",
   "metadata": {},
   "outputs": [],
   "source": [
    "llm = ChatOpenAI(model=\"gpt-3.5-turbo\", temperature=0)\n",
    "tools = [get_weather, calculator, mini_wiki]\n"
   ]
  },
  {
   "cell_type": "markdown",
   "id": "e944b778",
   "metadata": {},
   "source": [
    "## 3) Agent Style A — Tool-Calling (OpenAI Functions)\n",
    "\n",
    "This agent uses the model's native **function-calling** to choose and call tools.\n"
   ]
  },
  {
   "cell_type": "code",
   "execution_count": null,
   "id": "2b2d5a83",
   "metadata": {},
   "outputs": [],
   "source": [
    "tool_calling_agent = initialize_agent(\n",
    "    tools=tools,\n",
    "    llm=llm,\n",
    "    agent=AgentType.OPENAI_FUNCTIONS,\n",
    "    verbose=True,\n",
    ")\n"
   ]
  },
  {
   "cell_type": "code",
   "execution_count": null,
   "id": "bbd414c9",
   "metadata": {},
   "outputs": [],
   "source": [
    "queries = [\n",
    "    \"What's the weather in Paris right now? Suggest one outdoor activity.\",\n",
    "    \"Calculate: 23*17 + 3.5, then divide by 2.\",\n",
    "    \"Use mini_wiki to summarize 'Alan Turing' in one sentence, then list two contributions.\"\n",
    "]\n",
    "for q in queries:\n",
    "    print(\"\\nUser:\", q)\n",
    "    result = tool_calling_agent.invoke({\"input\": q})\n",
    "    print(\"Assistant:\", result[\"output\"])\n"
   ]
  },
  {
   "cell_type": "markdown",
   "id": "d0983639",
   "metadata": {},
   "source": [
    "## 4) Agent Style B — ReAct (Reasoning & Acting)\n",
    "\n",
    "ReAct agents follow a **Thought → Action → Observation** loop and work well with tool descriptions.\n"
   ]
  },
  {
   "cell_type": "code",
   "execution_count": null,
   "id": "f49960f6",
   "metadata": {},
   "outputs": [],
   "source": [
    "react_agent = initialize_agent(\n",
    "    tools=tools,\n",
    "    llm=llm,\n",
    "    agent=AgentType.ZERO_SHOT_REACT_DESCRIPTION,\n",
    "    verbose=True,\n",
    ")\n",
    "q = \"Plan an evening in Chicago based on the weather. Include one indoor and one outdoor option.\"\n",
    "print(\"User:\", q)\n",
    "result = react_agent.invoke({\"input\": q})\n",
    "print(\"Assistant:\", result[\"output\"])\n"
   ]
  },
  {
   "cell_type": "markdown",
   "id": "0411b7b2",
   "metadata": {},
   "source": [
    "## 🔄 How This Maps to Labs 1–4\n",
    "\n",
    "- **Tools** → Replaces our `tools.py` functions and manual wiring.\n",
    "- **Agent** → Replaces our hand-coded decision loop.\n",
    "- **LLM wrapper** → Replaces our raw API client and retry logic.\n",
    "\n",
    "Same Agentic AI lifecycle; less boilerplate and easier to extend.\n"
   ]
  }
 ],
 "metadata": {},
 "nbformat": 4,
 "nbformat_minor": 5
}
