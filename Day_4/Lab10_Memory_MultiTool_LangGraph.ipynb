{
 "cells": [
  {
   "cell_type": "markdown",
   "id": "0f270273",
   "metadata": {},
   "source": [
    "# 🧪 Lab 10: Memory + Multi-Tool Orchestration (LangGraph)\n",
    "\n",
    "**Goal:** Build a travel assistant that remembers preferences across turns and uses multiple tools.\n"
   ]
  },
  {
   "cell_type": "markdown",
   "id": "e5e32f6f",
   "metadata": {},
   "source": [
    "## Setup\n",
    "```bash\n",
    "pip install -U langgraph langchain langchain-openai typing_extensions\n",
    "export OPENAI_API_KEY=\"your_key\"\n",
    "```\n"
   ]
  },
  {
   "cell_type": "code",
   "execution_count": null,
   "id": "7276b122",
   "metadata": {},
   "outputs": [],
   "source": [
    "from typing import Dict, Tuple\n",
    "import re\n",
    "from langchain_openai import ChatOpenAI\n",
    "from langchain.tools import tool\n",
    "from langchain_core.messages import AnyMessage, HumanMessage\n",
    "from typing_extensions import TypedDict, Annotated\n",
    "from operator import add\n",
    "from langgraph.graph import StateGraph, END\n",
    "from langgraph.prebuilt import ToolNode\n",
    "from langgraph.checkpoint.memory import MemorySaver\n"
   ]
  },
  {
   "cell_type": "markdown",
   "id": "09525dcd",
   "metadata": {},
   "source": [
    "## Define Tools"
   ]
  },
  {
   "cell_type": "code",
   "execution_count": null,
   "id": "fd4be5c0",
   "metadata": {},
   "outputs": [],
   "source": [
    "@tool(\"get_weather\", return_direct=False)\n",
    "def get_weather(city: str) -> str:\n",
    "    weather_db: Dict[str, str] = {\n",
    "        \"paris\": \"sunny, 24°C\",\n",
    "        \"chicago\": \"cloudy, 18°C\",\n",
    "        \"mumbai\": \"rainy, 30°C\",\n",
    "        \"london\": \"overcast, 17°C\",\n",
    "        \"tokyo\": \"clear, 26°C\",\n",
    "    }\n",
    "    c = city.strip().lower()\n",
    "    if c in weather_db:\n",
    "        return f\"The weather in {city} is {weather_db[c]}.\"\n",
    "    return f\"No weather found for '{city}'. Assume mild (22°C) and clear for demo.\"\n"
   ]
  },
  {
   "cell_type": "code",
   "execution_count": null,
   "id": "d26918cc",
   "metadata": {},
   "outputs": [],
   "source": [
    "@tool(\"mini_wiki\", return_direct=False)\n",
    "def mini_wiki(topic: str) -> str:\n",
    "    kb: Dict[str, str] = {\n",
    "        \"paris\": \"Paris is the capital of France, known for the Eiffel Tower and the Louvre.\",\n",
    "        \"london\": \"London is the capital of the UK, home to the British Museum and the Thames.\",\n",
    "        \"tokyo\": \"Tokyo blends tradition and technology; famous for Shibuya Crossing and Ueno Park.\",\n",
    "        \"mumbai\": \"Mumbai is India's financial hub, known for Marine Drive and film industry.\",\n",
    "        \"chicago\": \"Chicago sits on Lake Michigan; known for the Riverwalk and deep-dish pizza.\",\n",
    "    }\n",
    "    return kb.get(topic.strip().lower(), \"No entry found in mini_wiki. Try 'Paris' or 'Chicago'.\")\n"
   ]
  },
  {
   "cell_type": "code",
   "execution_count": null,
   "id": "ec64b29c",
   "metadata": {},
   "outputs": [],
   "source": [
    "def _parse_city_weather(query: str):\n",
    "    q = query.strip()\n",
    "    if \";\" in q or \"city=\" in q.lower():\n",
    "        parts = [p.strip() for p in q.split(\";\")]\n",
    "        city, weather = \"\", \"\"\n",
    "        for p in parts:\n",
    "            if \"=\" in p:\n",
    "                k, v = p.split(\"=\", 1)\n",
    "                k = k.strip().lower(); v = v.strip()\n",
    "                if k == \"city\":\n",
    "                    city = v\n",
    "                elif k == \"weather\":\n",
    "                    weather = v\n",
    "        if not city:\n",
    "            city = re.split(r\"[;,]\", q)[0].replace(\"city\", \"\").replace(\"=\", \"\").strip()\n",
    "        return city, weather\n",
    "    return q, \"\"\n"
   ]
  },
  {
   "cell_type": "code",
   "execution_count": null,
   "id": "cad2dd6a",
   "metadata": {},
   "outputs": [],
   "source": [
    "@tool(\"suggest_city_activities\", return_direct=False)\n",
    "def suggest_city_activities(query: str) -> str:\n",
    "    catalog = {\n",
    "        \"chicago\": {\n",
    "            \"indoor\": [\"Art Institute of Chicago\", \"Museum of Science and Industry\", \"Field Museum\"],\n",
    "            \"outdoor\": [\"Chicago Riverwalk\", \"Millennium Park\", \"Navy Pier\"],\n",
    "        },\n",
    "        \"paris\": {\n",
    "            \"indoor\": [\"Louvre Museum\", \"Musée d'Orsay\"],\n",
    "            \"outdoor\": [\"Seine River Walk\", \"Jardin du Luxembourg\"],\n",
    "        },\n",
    "        \"london\": {\n",
    "            \"indoor\": [\"British Museum\", \"Tate Modern\"],\n",
    "            \"outdoor\": [\"Hyde Park\", \"South Bank Walk\"],\n",
    "        },\n",
    "        \"tokyo\": {\n",
    "            \"indoor\": [\"teamLab Planets\", \"Tokyo National Museum\"],\n",
    "            \"outdoor\": [\"Ueno Park\", \"Shibuya Crossing Walk\"],\n",
    "        },\n",
    "        \"mumbai\": {\n",
    "            \"indoor\": [\"Chhatrapati Shivaji Maharaj Vastu Sangrahalaya\", \"Phoenix Mall\"],\n",
    "            \"outdoor\": [\"Marine Drive\", \"Sanjay Gandhi National Park\"],\n",
    "        },\n",
    "    }\n",
    "    city, weather = _parse_city_weather(query)\n",
    "    c = city.strip().lower()\n",
    "    if not c:\n",
    "        return \"Please provide a city name (e.g., 'city=Paris; weather=sunny, 24°C').\"\n",
    "    data = catalog.get(c)\n",
    "    if not data:\n",
    "        return \"General: Indoor - local museum or aquarium. Outdoor - central park or riverfront walk.\"\n",
    "    w = weather.lower()\n",
    "    indoor_first = any(k in w for k in [\"rain\", \"storm\"]) or (\"overcast\" in w and \"cold\" in w)\n",
    "    if indoor_first:\n",
    "        indoor = data[\"indoor\"][0]; outdoor = data[\"outdoor\"][0]\n",
    "    elif any(k in w for k in [\"sunny\", \"clear\"]):\n",
    "        outdoor = data[\"outdoor\"][0]; indoor = data[\"indoor\"][0]\n",
    "    else:\n",
    "        indoor = data[\"indoor\"][0]; outdoor = data[\"outdoor\"][0]\n",
    "    return f\"City: {city}. Indoor: {indoor}. Outdoor: {outdoor}. (Weather-aware heuristics.)\"\n"
   ]
  },
  {
   "cell_type": "code",
   "execution_count": null,
   "id": "28a8d732",
   "metadata": {},
   "outputs": [],
   "source": [
    "@tool(\"calculator\", return_direct=False)\n",
    "def calculator(expression: str) -> str:\n",
    "    import math, re\n",
    "    if not re.fullmatch(r\"[0-9+\\-*/(). %\\s]+\", expression):\n",
    "        return \"Calculator error: invalid characters.\"\n",
    "    try:\n",
    "        result = eval(expression, {\"__builtins__\": {}}, {\"math\": math})\n",
    "        return str(result)\n",
    "    except Exception as e:\n",
    "        return f\"Calculator error: {e}\"\n"
   ]
  },
  {
   "cell_type": "markdown",
   "id": "4a85045e",
   "metadata": {},
   "source": [
    "## Build Graph"
   ]
  },
  {
   "cell_type": "code",
   "execution_count": null,
   "id": "e80bc182",
   "metadata": {},
   "outputs": [],
   "source": [
    "TOOLS = [get_weather, mini_wiki, suggest_city_activities, calculator]\n",
    "\n",
    "class AgentState(TypedDict):\n",
    "    messages: Annotated[list[AnyMessage], add]\n",
    "\n",
    "llm = ChatOpenAI(model=\"gpt-3.5-turbo\", temperature=0)\n",
    "llm_with_tools = llm.bind_tools(TOOLS)\n",
    "\n",
    "def agent_node(state: AgentState) -> AgentState:\n",
    "    response = llm_with_tools.invoke(state[\"messages\"])\n",
    "    return {\"messages\": [response]}\n",
    "\n",
    "graph = StateGraph(AgentState)\n",
    "graph.add_node(\"agent\", agent_node)\n",
    "graph.add_node(\"tools\", ToolNode(TOOLS))\n",
    "\n",
    "def route_from_agent(state: AgentState):\n",
    "    last = state[\"messages\"][-1]\n",
    "    tc = getattr(last, \"tool_calls\", None) or getattr(getattr(last, \"additional_kwargs\", {}), \"get\", lambda *_: None)(\"tool_calls\")\n",
    "    return \"tools\" if tc else END\n",
    "\n",
    "graph.set_entry_point(\"agent\")\n",
    "graph.add_conditional_edges(\"agent\", route_from_agent)\n",
    "graph.add_edge(\"tools\", \"agent\")\n",
    "\n",
    "checkpointer = MemorySaver()\n",
    "app = graph.compile(checkpointer=checkpointer)\n"
   ]
  },
  {
   "cell_type": "markdown",
   "id": "5f6c8d00",
   "metadata": {},
   "source": [
    "## Demo"
   ]
  },
  {
   "cell_type": "code",
   "execution_count": null,
   "id": "fdd0b5ca",
   "metadata": {},
   "outputs": [],
   "source": [
    "cfg = {\"configurable\": {\"thread_id\": \"t-notebook-lab10\"}}\n",
    "msgs = [\n",
    "    HumanMessage(content=\"Hi, I'm Priya. I prefer indoor activities and budget-friendly options.\"),\n",
    "    HumanMessage(content=\"Plan a 1-day trip in Paris considering the weather; include one indoor and one outdoor pick.\"),\n",
    "    HumanMessage(content=\"What did I say my preference was?\"),\n",
    "    HumanMessage(content=\"Now do the same for Chicago.\"),\n",
    "    HumanMessage(content=\"Compute 25 + 18 + 12.5 and tell me only the number.\"),\n",
    "]\n",
    "for m in msgs:\n",
    "    out = app.invoke({\"messages\": [m]}, cfg)\n",
    "    display({\"user\": m.content, \"assistant\": out[\"messages\"][-1].content})\n"
   ]
  }
 ],
 "metadata": {},
 "nbformat": 4,
 "nbformat_minor": 5
}
